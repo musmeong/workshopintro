{
 "cells": [
  {
   "cell_type": "markdown",
   "metadata": {},
   "source": [
    "# Random Value List and Statistics"
   ]
  },
  {
   "cell_type": "markdown",
   "metadata": {},
   "source": [
    "## List the Random Values"
   ]
  },
  {
   "cell_type": "code",
   "execution_count": 8,
   "metadata": {},
   "outputs": [
    {
     "name": "stdout",
     "output_type": "stream",
     "text": [
      "[14, 9, 34, 42, 83, 89, 89, 23, 48, 62, 13, 57, 10, 74, 4, 97, 43, 29, 87, 64, 28, 67, 2, 65, 14, 70, 73, 88, 1, 45, 50, 84, 93, 20, 54, 57, 68, 68, 8, 93, 11, 81, 9, 96, 85, 4, 52, 68, 99, 20, 72, 23, 46, 31, 41, 92, 87, 29, 80, 18, 5, 74, 79, 14, 70, 71, 18, 98, 84, 90, 6, 94, 20, 87, 78, 2, 13, 12, 5, 25, 80, 57, 51, 26, 11, 45, 33, 55, 4, 85, 56, 74, 10, 41, 47, 4, 59, 22, 16, 48, 20, 19, 7, 29, 1, 93, 24, 62, 90, 62, 80, 59, 85, 85, 30, 68, 22, 7, 98, 61, 85, 83, 23, 83, 24, 95, 1, 52, 60, 56, 40, 64, 67, 83, 81, 3, 62, 49, 85, 50, 46, 91, 57, 45, 38, 10, 26, 42, 25, 2, 36, 55, 77, 17, 64, 38, 26, 48, 25, 5, 79, 49, 40, 46, 7, 62, 40, 21, 60, 4, 92, 89, 35, 87, 47, 6, 80, 72, 95, 57, 39, 3, 13, 9, 80, 21, 49, 93, 25, 18, 45, 55, 28, 55, 17, 43, 35, 62, 96, 14, 48, 62, 40, 31, 13, 31, 66, 97, 58, 31, 34, 57, 36, 72, 20, 32, 30, 54, 55, 20, 29, 22, 30, 29, 26, 68, 40, 12, 79, 12, 3, 80, 98, 36, 38, 23, 74, 98, 3, 43, 88, 32, 81, 91, 36, 62, 82, 60, 76, 13]\n"
     ]
    }
   ],
   "source": [
    "import random\n",
    "\n",
    "#Generate random value and make a list\n",
    "nilaiTugas = []\n",
    "for i in range(250):\n",
    "    nilaiTugas.append(random.randrange(1,100,1))\n",
    "\n",
    "print(nilaiTugas)"
   ]
  },
  {
   "cell_type": "markdown",
   "metadata": {},
   "source": [
    "## 1. Show only the odd value"
   ]
  },
  {
   "cell_type": "code",
   "execution_count": 38,
   "metadata": {},
   "outputs": [
    {
     "name": "stdout",
     "output_type": "stream",
     "text": [
      "Odd value of generated random values ( 118 values) :\n",
      "[9, 83, 89, 89, 23, 13, 57, 97, 43, 29, 87, 67, 65, 73, 1, 45, 93, 57, 93, 11, 81, 9, 85, 99, 23, 31, 41, 87, 29, 5, 79, 71, 87, 13, 5, 25, 57, 51, 11, 45, 33, 55, 85, 41, 47, 59, 19, 7, 29, 1, 93, 59, 85, 85, 7, 61, 85, 83, 23, 83, 95, 1, 67, 83, 81, 3, 49, 85, 91, 57, 45, 25, 55, 77, 17, 25, 5, 79, 49, 7, 21, 89, 35, 87, 47, 95, 57, 39, 3, 13, 9, 21, 49, 93, 25, 45, 55, 55, 17, 43, 35, 31, 13, 31, 97, 31, 57, 55, 29, 29, 79, 3, 23, 3, 43, 81, 91, 13]\n"
     ]
    }
   ],
   "source": [
    "odd_value = [value for value in nilaiTugas if value%2 == 1]\n",
    "print(\"Odd value of generated random values (\",len(odd_value),\"values) :\")\n",
    "print(odd_value)"
   ]
  },
  {
   "cell_type": "markdown",
   "metadata": {},
   "source": [
    "## 2. Show and count how many values are more than 70"
   ]
  },
  {
   "cell_type": "code",
   "execution_count": 39,
   "metadata": {},
   "outputs": [
    {
     "name": "stdout",
     "output_type": "stream",
     "text": [
      "The values more than 70 from generated random values ( 68 values) :\n",
      "[83, 89, 89, 74, 97, 87, 73, 88, 84, 93, 93, 81, 96, 85, 99, 72, 92, 87, 80, 74, 79, 71, 98, 84, 90, 94, 87, 78, 80, 85, 74, 93, 90, 80, 85, 85, 98, 85, 83, 83, 95, 83, 81, 85, 91, 77, 79, 92, 89, 87, 80, 72, 95, 80, 93, 96, 97, 72, 79, 80, 98, 74, 98, 88, 81, 91, 82, 76]\n"
     ]
    }
   ],
   "source": [
    "m70_value = [value for value in nilaiTugas if value > 70]\n",
    "print(\"The values more than 70 from generated random values (\",len(m70_value),\"values) :\")\n",
    "print(m70_value)"
   ]
  },
  {
   "cell_type": "markdown",
   "metadata": {},
   "source": [
    "## 3. Count the standard deviation of the data"
   ]
  },
  {
   "cell_type": "code",
   "execution_count": 56,
   "metadata": {},
   "outputs": [
    {
     "name": "stdout",
     "output_type": "stream",
     "text": [
      "Standard Deviation from the generated random values : 29.037552513943044\n",
      "\n",
      "=========================Checking Result=========================\n",
      "The result is correct and have been checked with numpy package.\n"
     ]
    }
   ],
   "source": [
    "import numpy as np #to check the final output\n",
    "\n",
    "#Count the sample size\n",
    "n = len(nilaiTugas)\n",
    "\n",
    "#Count the sum of generated random value and its mean\n",
    "totalvalue = 0\n",
    "for value in nilaiTugas :\n",
    "    totalvalue += value\n",
    "mean = totalvalue/n\n",
    "\n",
    "#Count the variance\n",
    "totalsq = 0\n",
    "for value in nilaiTugas :\n",
    "    totalsq += (value - mean)**2\n",
    "var = totalsq/n #we use population variance assuming that the data given is only focusing on student in a classroom\n",
    "\n",
    "#Count the standard deviation\n",
    "stdev = var**(1/2) #maybe it doesn't work well in Python2\n",
    "\n",
    "#Print the result\n",
    "print('Standard Deviation from the generated random values :', stdev)\n",
    "\n",
    "#Check the result\n",
    "print(\"\\n=========================Checking Result=========================\")\n",
    "if stdev == np.std(nilaiTugas) :\n",
    "    print(\"The result is correct and have been checked with numpy package.\")\n",
    "else :\n",
    "    print(\"I'm sorry, but it seems something is wrong with your standard deviation result. It should be\", np.std(nilaiTugas))"
   ]
  },
  {
   "cell_type": "markdown",
   "metadata": {},
   "source": [
    "<b>Note : </b>However, the standard deviation could be different with the numpy result if we use the sample variance formula, that is\n",
    "$\\dfrac{\\sum_{i=1}^n (x_i-\\bar{x})^2}{n-1}$, while the population variance formula is\n",
    "$\\dfrac{\\sum_{i=1}^n (x_i-\\bar{x})^2}{n}$ (and of course many versions of variance formula).\n",
    "By assuming that the data is the population data (because it is only focusing on the data in classroom, and we don't want to find it to represent anything), we found the both results are the same. On the other side, if we assume that it is a sample data, we can use <pre>np.std(nilaiTugas, ddof=1)</pre> to find numpy standard deviation result of sample data."
   ]
  },
  {
   "cell_type": "markdown",
   "metadata": {},
   "source": [
    "## 4. Find the maximum and minimum value of the data"
   ]
  },
  {
   "cell_type": "code",
   "execution_count": 55,
   "metadata": {},
   "outputs": [
    {
     "name": "stdout",
     "output_type": "stream",
     "text": [
      "Maximum value of the generated random values is 99\n",
      "Minimum value of the generated random values is 1\n",
      "\n",
      "=========================Checking Result=========================\n",
      "The result is correct and have been checked with 'max' function.\n",
      "The result is correct and have been checked with 'min' function.\n"
     ]
    }
   ],
   "source": [
    "#Define the initial value of maximum and minimum value\n",
    "maxv = minv = nilaiTugas[0]\n",
    "\n",
    "#Find the maximum and minimum by iterating the value in the list\n",
    "for value in nilaiTugas :\n",
    "    if value > maxv : maxv = value\n",
    "    if value < minv : minv = value\n",
    "\n",
    "#Print the result\n",
    "print('Maximum value of the generated random values is', maxv)\n",
    "print('Minimum value of the generated random values is', minv)\n",
    "\n",
    "#Check the result with built-in function\n",
    "print(\"\\n=========================Checking Result=========================\")\n",
    "if maxv == max(nilaiTugas) :\n",
    "    print(\"The result is correct and have been checked with 'max' function.\")\n",
    "else :\n",
    "    print(\"I'm sorry, but it seems something is wrong with your maximum value result. It should be\", max(nilaiTugas))\n",
    "if minv == min(nilaiTugas) :\n",
    "    print(\"The result is correct and have been checked with 'min' function.\")\n",
    "else :\n",
    "    print(\"I'm sorry, but it seems something is wrong with your maximum value result. It should be\", min(nilaiTugas))"
   ]
  },
  {
   "cell_type": "markdown",
   "metadata": {},
   "source": [
    "## 5. Find the mode of the data"
   ]
  },
  {
   "cell_type": "code",
   "execution_count": 67,
   "metadata": {},
   "outputs": [
    {
     "name": "stdout",
     "output_type": "stream",
     "text": [
      "Mode of the generated random values is 62 that appears 8 times.\n",
      "\n",
      "=========================Checking Result=========================\n",
      "The result is correct and have been checked with another method.\n"
     ]
    }
   ],
   "source": [
    "#Define the new dictionary to count the value\n",
    "countvalue = {}\n",
    "\n",
    "#Count how many values are there in the list\n",
    "for element in nilaiTugas :\n",
    "    if element in countvalue :\n",
    "        countvalue[element] += 1\n",
    "    else :\n",
    "        countvalue[element] = 1\n",
    "\n",
    "#Define the initial value of mode and its frequency\n",
    "mode = 0\n",
    "modefreq = 0\n",
    "\n",
    "#Find the mode by iterating the value of 'countvalue' dictionary to find their maximum\n",
    "for key in countvalue:\n",
    "    if countvalue[key] > modefreq:\n",
    "        modefreq = countvalue[key]\n",
    "        mode = key;\n",
    "\n",
    "#Print the result\n",
    "print('Mode of the generated random values is', mode, 'that appears', modefreq,'times.')\n",
    "\n",
    "#Check the result with another method\n",
    "print(\"\\n=========================Checking Result=========================\")\n",
    "if mode == max(set(nilaiTugas), key=nilaiTugas.count) :\n",
    "    print(\"The result is correct and have been checked with another method.\")\n",
    "else :\n",
    "    print(\"I'm sorry, but it seems something is wrong with your mode result. It should be\", max(set(nilaiTugas), key=nilaiTugas.count))"
   ]
  }
 ],
 "metadata": {
  "kernelspec": {
   "display_name": "Python 3",
   "language": "python",
   "name": "python3"
  },
  "language_info": {
   "codemirror_mode": {
    "name": "ipython",
    "version": 3
   },
   "file_extension": ".py",
   "mimetype": "text/x-python",
   "name": "python",
   "nbconvert_exporter": "python",
   "pygments_lexer": "ipython3",
   "version": "3.6.5"
  }
 },
 "nbformat": 4,
 "nbformat_minor": 2
}
