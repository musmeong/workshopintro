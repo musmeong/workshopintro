{
 "cells": [
  {
   "cell_type": "markdown",
   "metadata": {},
   "source": [
    "## SOAL\n",
    "\n",
    "\n",
    "Body Mass Index (BMI) menentukan sebuah keidealan berat badan terhadap tinggi badan. Berikut adalah formula dari BMI : BMI = $\\frac{weight  (\\text{ in } kg)}{height^2  (\\text{ in } m^2)}$\n",
    "\n",
    "Berikut adalah kategorisasi BMI\n",
    "\n",
    "| BMI                 | Kategori BMI             |   |\n",
    "|---------------------|---------------------------|---|\n",
    "| Kurang dari 15        | Very severely underweight |   |\n",
    "| Diantara 15 dan 16   | Severely underweight      |   |\n",
    "| Diantara 16 dan 18.5 | Underweight               |   |\n",
    "| Diantara 18.5 dan 25 | Normal (healthy weight)   |   |\n",
    "| Diantara 25 dan 30   | Overweight                |   |\n",
    "| Diantara 30 dan 35   | Moderately obese          |   |\n",
    "| Diantara 35 dan 40   | Severely obese            |   |\n",
    "| Over 40             | Very severely obese       |   |\n",
    "\n",
    "Buatlah sebuah program yang memiliki dua variabel berat badan dengan satuan <i>kg</i>, dan tinggi badan dengan satuan <i>cm</i>, kemudian keluaran dari program adalah Kategori BMI."
   ]
  },
  {
   "cell_type": "code",
   "execution_count": 1,
   "metadata": {},
   "outputs": [
    {
     "name": "stdout",
     "output_type": "stream",
     "text": [
      "Input your weight (in kg) = 52\n",
      "Input your height (in cm) = 178\n",
      "Your weight is 52.0 kg\n",
      "Your height is 178.0 cm\n",
      "Your BMI score is 16.41206918318394\n",
      "You are underweight.\n"
     ]
    }
   ],
   "source": [
    "\"\"\"This program is supposed to be a BMI-count tool that need user's weight and height\n",
    "as a user-defined input and will show BMI and its condition as an output.\n",
    "This program is created to fulfill the Digital Talent assignment.\n",
    "\n",
    "Created by : Muhamad Musta'in\n",
    "\"\"\"\n",
    "\n",
    "#User Defined Input\n",
    "weight = float(input('Input your weight (in kg) = ')) #weight input in kg\n",
    "height = float(input('Input your height (in cm) = ')) #height input in cm\n",
    "hm = height/100 #convert the height from cm to m\n",
    "#--------------------------------\n",
    "\n",
    "#Count the BMI\n",
    "BMI = weight/(hm**2)  #BMI formula\n",
    "#--------------------------------\n",
    "\n",
    "#Show the output\n",
    "print('Your weight is', weight,'kg')\n",
    "print('Your height is', height, 'cm')\n",
    "print('Your BMI score is',BMI)\n",
    "#--------------------------------\n",
    "\n",
    "#Conditional statement\n",
    "if BMI <= 15:\n",
    "    print ('You are very severely underweight.')\n",
    "elif 15 < BMI <= 16 :\n",
    "    print ('You are severely underweight.')\n",
    "elif 16 < BMI <= 18.5 :\n",
    "    print ('You are underweight.')\n",
    "elif 18.5 < BMI <= 25 :\n",
    "    print ('You are normal (healthy weight).')\n",
    "elif 25 < BMI <= 30 :\n",
    "    print ('You are overweight.')\n",
    "elif 30 < BMI <= 35 :\n",
    "    print ('You are moderately obese.')\n",
    "elif 35 < BMI <= 40 :\n",
    "    print ('You are severely obese.')\n",
    "elif BMI > 40 :\n",
    "    print ('You are very severely obese.')"
   ]
  }
 ],
 "metadata": {
  "kernelspec": {
   "display_name": "Python 3",
   "language": "python",
   "name": "python3"
  },
  "language_info": {
   "codemirror_mode": {
    "name": "ipython",
    "version": 3
   },
   "file_extension": ".py",
   "mimetype": "text/x-python",
   "name": "python",
   "nbconvert_exporter": "python",
   "pygments_lexer": "ipython3",
   "version": "3.6.5"
  }
 },
 "nbformat": 4,
 "nbformat_minor": 2
}
